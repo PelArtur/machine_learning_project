{
 "cells": [
  {
   "cell_type": "code",
   "execution_count": 6,
   "id": "e3f59498",
   "metadata": {},
   "outputs": [],
   "source": [
    "import numpy as np\n",
    "from dataset import MatchingDataset\n",
    "from tqdm import tqdm\n",
    "import deepdish as dd\n",
    "from colmap_utils.read_write_model import read_model"
   ]
  },
  {
   "cell_type": "code",
   "execution_count": 7,
   "id": "5b2705e0",
   "metadata": {},
   "outputs": [
    {
     "name": "stdout",
     "output_type": "stream",
     "text": [
      "Extracting brandenburg_gate data...\n"
     ]
    },
    {
     "name": "stderr",
     "output_type": "stream",
     "text": [
      "Processing brandenburg_gate image pairs: 100%|██████████| 10000/10000 [17:16<00:00,  9.65it/s]\n"
     ]
    },
    {
     "name": "stdout",
     "output_type": "stream",
     "text": [
      "Extracting buckingham_palace data...\n"
     ]
    },
    {
     "name": "stderr",
     "output_type": "stream",
     "text": [
      "Processing buckingham_palace image pairs: 100%|██████████| 10000/10000 [17:43<00:00,  9.41it/s]\n"
     ]
    },
    {
     "name": "stdout",
     "output_type": "stream",
     "text": [
      "Extracting sacre_coeur data...\n"
     ]
    },
    {
     "name": "stderr",
     "output_type": "stream",
     "text": [
      "Processing sacre_coeur image pairs: 100%|██████████| 10000/10000 [18:26<00:00,  9.03it/s]\n"
     ]
    },
    {
     "name": "stdout",
     "output_type": "stream",
     "text": [
      "Extracting st_pauls_cathedral data...\n"
     ]
    },
    {
     "name": "stderr",
     "output_type": "stream",
     "text": [
      "Processing st_pauls_cathedral image pairs: 100%|██████████| 10000/10000 [17:49<00:00,  9.35it/s]\n"
     ]
    },
    {
     "name": "stdout",
     "output_type": "stream",
     "text": [
      "Extracting palace_of_westminster data...\n"
     ]
    },
    {
     "name": "stderr",
     "output_type": "stream",
     "text": [
      "Processing palace_of_westminster image pairs: 100%|██████████| 10000/10000 [15:49<00:00, 10.53it/s]"
     ]
    },
    {
     "name": "stdout",
     "output_type": "stream",
     "text": [
      "Samples with padding: 668/50000\n"
     ]
    },
    {
     "name": "stderr",
     "output_type": "stream",
     "text": [
      "\n"
     ]
    }
   ],
   "source": [
    "matching_dataset = MatchingDataset([\"brandenburg_gate\", \"buckingham_palace\", \"sacre_coeur\", \"st_pauls_cathedral\", \"palace_of_westminster\"], max_pairs_per_dataset=10000)"
   ]
  },
  {
   "cell_type": "code",
   "execution_count": 8,
   "id": "287987be",
   "metadata": {},
   "outputs": [
    {
     "name": "stderr",
     "output_type": "stream",
     "text": [
      "100%|██████████| 50000/50000 [00:15<00:00, 3150.57it/s]\n"
     ]
    }
   ],
   "source": [
    "no_matches = 0\n",
    "padding_rows = 0\n",
    "n = matching_dataset[0][0].shape[1]\n",
    "keypoints = matching_dataset[0][0].shape[0]\n",
    "freq = np.zeros(keypoints)\n",
    "\n",
    "for input_data, label in tqdm(matching_dataset):\n",
    "    matched = label[label != -1]\n",
    "    no_matches += keypoints - len(matched)\n",
    "\n",
    "    for match in matched:\n",
    "        freq[int(match)] += 1\n",
    "\n",
    "    for i in range(len(input_data) - 1, -1, -1):\n",
    "        if np.any(input_data[i][: n // 2]) and np.any(input_data[i][n // 2:]):\n",
    "            break\n",
    "        if not np.any(input_data[i][: n // 2]):\n",
    "            padding_rows += 1\n",
    "        if not np.any(input_data[i][n // 2:]):\n",
    "            padding_rows += 1"
   ]
  },
  {
   "cell_type": "code",
   "execution_count": 9,
   "id": "745c9b0b",
   "metadata": {},
   "outputs": [
    {
     "name": "stdout",
     "output_type": "stream",
     "text": [
      "Padded rows 146803/25600000, 0.57344921875%\n"
     ]
    }
   ],
   "source": [
    "print(f\"Padded rows {padding_rows}/{keypoints * len(matching_dataset)}, {(padding_rows) / (keypoints * len(matching_dataset)) * 100}%\")"
   ]
  },
  {
   "cell_type": "code",
   "execution_count": 10,
   "id": "86ea0360",
   "metadata": {},
   "outputs": [
    {
     "name": "stdout",
     "output_type": "stream",
     "text": [
      "Matched pairs of keypoints 13580699/25600000, 53.049605468749995%\n"
     ]
    }
   ],
   "source": [
    "print(f\"Matched pairs of keypoints {keypoints * len(matching_dataset) - no_matches}/{keypoints * len(matching_dataset)}, {(1 - no_matches / (keypoints * len(matching_dataset))) * 100}%\")"
   ]
  },
  {
   "cell_type": "code",
   "execution_count": 11,
   "id": "c7090458",
   "metadata": {},
   "outputs": [
    {
     "name": "stdout",
     "output_type": "stream",
     "text": [
      "--------brandenburg_gate--------\n",
      "Images: 1363\n",
      "Valid pairs: 224200/928203\n",
      "--------buckingham_palace--------\n",
      "Images: 1676\n",
      "Valid pairs: 70225/1403650\n",
      "--------sacre_coeur--------\n",
      "Images: 1179\n",
      "Valid pairs: 117313/694431\n",
      "--------st_pauls_cathedral--------\n",
      "Images: 615\n",
      "Valid pairs: 84910/188805\n",
      "--------palace_of_westminster--------\n",
      "Images: 983\n",
      "Valid pairs: 70746/482653\n"
     ]
    }
   ],
   "source": [
    "buildings = [\"brandenburg_gate\", \"buckingham_palace\", \"sacre_coeur\", \"st_pauls_cathedral\", \"palace_of_westminster\"]\n",
    "total_images = 0\n",
    "total_pairs = 0\n",
    "valid_pairs = 0\n",
    "\n",
    "for building in buildings:\n",
    "    print(f\"--------{building}--------\")\n",
    "    _, images, _ = read_model(path=building + \"/dense/sparse\" , ext='.bin')\n",
    "    print(f'Images: {len(images)}')\n",
    "    total_images += len(images)\n",
    "\n",
    "    pairs = dd.io.load(building + '/dense/stereo/pairs-dilation-0.00-fixed2.h5')\n",
    "    if len(pairs[list(pairs.keys())[0]]) == 3:\n",
    "        idx1, idx2 = 0, 1\n",
    "    else:\n",
    "        idx1, idx2 = 2, 3\n",
    "    total_pairs += len(pairs)\n",
    "\n",
    "    filtered = []\n",
    "    for p in pairs:\n",
    "        if pairs[p][idx1] >= 0.4 and pairs[p][idx2] >= 0.4:\n",
    "            filtered.append(p)\n",
    "    \n",
    "    print(f'Valid pairs: {len(filtered)}/{len(pairs)}')\n",
    "    valid_pairs += len(filtered)\n",
    "    pairs = filtered"
   ]
  }
 ],
 "metadata": {
  "kernelspec": {
   "display_name": "venv",
   "language": "python",
   "name": "python3"
  },
  "language_info": {
   "codemirror_mode": {
    "name": "ipython",
    "version": 3
   },
   "file_extension": ".py",
   "mimetype": "text/x-python",
   "name": "python",
   "nbconvert_exporter": "python",
   "pygments_lexer": "ipython3",
   "version": "3.10.4"
  }
 },
 "nbformat": 4,
 "nbformat_minor": 5
}
